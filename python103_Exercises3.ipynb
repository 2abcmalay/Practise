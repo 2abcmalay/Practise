{
  "nbformat": 4,
  "nbformat_minor": 0,
  "metadata": {
    "colab": {
      "provenance": []
    },
    "kernelspec": {
      "name": "python3",
      "display_name": "Python 3"
    },
    "language_info": {
      "name": "python"
    }
  },
  "cells": [
    {
      "cell_type": "markdown",
      "source": [
        "# This exercise is to test your knowledge in\n",
        "\n",
        "1.   For Loop\n",
        "2.   While Loop\n",
        "\n"
      ],
      "metadata": {
        "id": "sh59bu-cmHQf"
      }
    },
    {
      "cell_type": "markdown",
      "source": [
        "**Problem 1**\n",
        "\n",
        "Print first 10 natural numbers using while loop"
      ],
      "metadata": {
        "id": "NUBr3r3Er9Ub"
      }
    },
    {
      "cell_type": "code",
      "execution_count": null,
      "metadata": {
        "id": "J-YS3jigr6bo"
      },
      "outputs": [],
      "source": [
        "while i in range(10):\n",
        "  print(i)"
      ]
    },
    {
      "cell_type": "markdown",
      "source": [
        "**Problem 2**\n",
        "\n",
        "Print first 10 prime numbers using for loop"
      ],
      "metadata": {
        "id": "VSmefGGDsDr0"
      }
    },
    {
      "cell_type": "code",
      "source": [
        "count = 0\n",
        "num = 2\n",
        "\n",
        "while count < 10:\n",
        "    is_prime = True\n",
        "    for i in range(2, num):\n",
        "        if num % i == 0:\n",
        "            is_prime = False\n",
        "            break\n",
        "    if is_prime:\n",
        "        print(num)\n",
        "        count += 1\n",
        "    num += 1\n",
        "\n",
        ""
      ],
      "metadata": {
        "id": "xnXhQAK7sMRY",
        "colab": {
          "base_uri": "https://localhost:8080/"
        },
        "outputId": "8b371888-72e8-42eb-d8d0-23a35a0db268"
      },
      "execution_count": 1,
      "outputs": [
        {
          "output_type": "stream",
          "name": "stdout",
          "text": [
            "2\n",
            "3\n",
            "5\n",
            "7\n",
            "11\n",
            "13\n",
            "17\n",
            "19\n",
            "23\n",
            "29\n"
          ]
        }
      ]
    },
    {
      "cell_type": "markdown",
      "source": [
        "**Problem 3**\n",
        "\n",
        "Get number of items as input and generate that many ADAM Numbers"
      ],
      "metadata": {
        "id": "9TXi2WCNsNTg"
      }
    },
    {
      "cell_type": "code",
      "source": [
        "count = int(input(\"Enter the number of Adam numbers to generate: \"))\n",
        "\n",
        "found = 0\n",
        "num = 1\n",
        "\n",
        "while found < count:\n",
        "    # Reverse num\n",
        "    rev = int(str(num)[::-1])\n",
        "\n",
        "    # Square of num and square of reversed num\n",
        "    square_num = num * num\n",
        "    square_rev = rev * rev\n",
        "\n",
        "    # Reverse the square of reversed number\n",
        "    rev_square_rev = int(str(square_rev)[::-1])\n",
        "\n",
        "    # Check if it's an Adam number\n",
        "    if square_num == rev_square_rev:\n",
        "        print(num)\n",
        "        found += 1\n",
        "\n",
        "    num += 1\n",
        "\n"
      ],
      "metadata": {
        "id": "F7fhGKvxsRyk",
        "colab": {
          "base_uri": "https://localhost:8080/"
        },
        "outputId": "a1f8ec78-1b38-4259-bf8d-2de5b0c8d860"
      },
      "execution_count": 3,
      "outputs": [
        {
          "output_type": "stream",
          "name": "stdout",
          "text": [
            "Enter the number of Adam numbers to generate: 5\n",
            "1\n",
            "2\n",
            "3\n",
            "11\n",
            "12\n"
          ]
        }
      ]
    },
    {
      "cell_type": "markdown",
      "source": [
        "**Problem 4**\n",
        "\n",
        "Get number of items as input and generate that many Armstrong Numbers"
      ],
      "metadata": {
        "id": "1NtR4H83sWRd"
      }
    },
    {
      "cell_type": "code",
      "source": [
        "count = int(input(\"Enter the number of Armstrong numbers to generate: \"))\n",
        "\n",
        "found = 0\n",
        "num = 1\n",
        "\n",
        "while found < count:\n",
        "    # Convert number to string to get digits and length\n",
        "    num_str = str(num)\n",
        "    power = len(num_str)\n",
        "\n",
        "    total = 0\n",
        "    for digit in num_str:\n",
        "        total += int(digit) ** power\n",
        "\n",
        "    if total == num:\n",
        "        print(num)\n",
        "        found += 1\n",
        "\n",
        "    num += 1\n"
      ],
      "metadata": {
        "id": "kTHyEZhosohS",
        "colab": {
          "base_uri": "https://localhost:8080/"
        },
        "outputId": "83364089-62ca-4edb-874c-7c61d21b7185"
      },
      "execution_count": 5,
      "outputs": [
        {
          "output_type": "stream",
          "name": "stdout",
          "text": [
            "Enter the number of Armstrong numbers to generate: 10\n",
            "1\n",
            "2\n",
            "3\n",
            "4\n",
            "5\n",
            "6\n",
            "7\n",
            "8\n",
            "9\n",
            "153\n"
          ]
        }
      ]
    },
    {
      "cell_type": "markdown",
      "source": [
        "**Problem 5**\n",
        "\n",
        "Write a program to print the following pattern using a loop.\n",
        "\n",
        "o\n",
        "\n",
        "oo\n",
        "\n",
        "ooo\n",
        "\n",
        "oooo\n",
        "\n",
        "ooooo"
      ],
      "metadata": {
        "id": "YSye6ju2s4Rd"
      }
    },
    {
      "cell_type": "code",
      "source": [
        "for i in range(6):\n",
        "  print(\"o\"*i)"
      ],
      "metadata": {
        "id": "UY1ml3TotBI7",
        "colab": {
          "base_uri": "https://localhost:8080/"
        },
        "outputId": "9be91ba7-d82d-4b15-c141-4eb47f7514b4"
      },
      "execution_count": 1,
      "outputs": [
        {
          "output_type": "stream",
          "name": "stdout",
          "text": [
            "\n",
            "o\n",
            "oo\n",
            "ooo\n",
            "oooo\n",
            "ooooo\n"
          ]
        }
      ]
    },
    {
      "cell_type": "markdown",
      "source": [
        "**Problem 6**\n",
        "\n",
        "Write a program to print the following pattern using a loop\n",
        "\n",
        "1\n",
        "\n",
        "1 2\n",
        "\n",
        "1 2 3\n",
        "\n",
        "1 2 3 4\n",
        "\n",
        "1 2 3 4 5"
      ],
      "metadata": {
        "id": "1SkSXbQbtUEW"
      }
    },
    {
      "cell_type": "code",
      "source": [
        "for i in range(1,6):\n",
        "  for j in range(1,i+1):\n",
        "    print(j,end=\" \")\n",
        "  print()"
      ],
      "metadata": {
        "id": "tRDo_Wa7tfpE",
        "colab": {
          "base_uri": "https://localhost:8080/"
        },
        "outputId": "865434d9-b3d3-4c70-e1d5-193c7fdb7b33"
      },
      "execution_count": 2,
      "outputs": [
        {
          "output_type": "stream",
          "name": "stdout",
          "text": [
            "1 \n",
            "1 2 \n",
            "1 2 3 \n",
            "1 2 3 4 \n",
            "1 2 3 4 5 \n"
          ]
        }
      ]
    },
    {
      "cell_type": "markdown",
      "source": [
        "**Problem 7**\n",
        "\n",
        "Get a number as input and calculate the sum of all numbers from 1 to the given number."
      ],
      "metadata": {
        "id": "WWKQLhpptmeb"
      }
    },
    {
      "cell_type": "code",
      "source": [
        "num = int(input(\"Enter a number: \"))\n",
        "sum = 0\n",
        "for i in range(1,num+1):\n",
        "  sum += i\n",
        "print(sum)"
      ],
      "metadata": {
        "id": "ps0pUcEDtzkb"
      },
      "execution_count": null,
      "outputs": []
    },
    {
      "cell_type": "markdown",
      "source": [
        "**Problem 8**\n",
        "\n",
        "Write a python program that takes few numbers as command line argument. Use a loop to display all elements. Use another loop to display all elements in the even position. Use another loop to display all elements in the odd position."
      ],
      "metadata": {
        "id": "S4OA1NOB1EBt"
      }
    },
    {
      "cell_type": "code",
      "source": [
        "# Get comma-separated numbers as input\n",
        "input_str = input(\"Enter numbers separated by commas: \")\n",
        "\n",
        "# Split input and convert to integers\n",
        "numbers =input_str.split(\",\")\n",
        "\n",
        "# Display all elements\n",
        "print(\"All elements:\")\n",
        "for num in numbers:\n",
        "    print(num, end=\" \")\n",
        "print(\"\\n\")\n",
        "\n",
        "# Display elements at even positions (index 0, 2, 4, ...)\n",
        "print(\"Elements at even positions (index 0, 2, 4...):\")\n",
        "for i in range(0, len(numbers), 2):\n",
        "    print(numbers[i])\n",
        "print(\"\\n\")\n",
        "\n",
        "# Display elements at odd positions (index 1, 3, 5, ...)\n",
        "print(\"Elements at odd positions (index 1, 3, 5...):\")\n",
        "for i in range(1, len(numbers), 2):\n",
        "    print(numbers[i])\n",
        "print()\n"
      ],
      "metadata": {
        "id": "3bGUGiBm5Ab-",
        "colab": {
          "base_uri": "https://localhost:8080/"
        },
        "outputId": "0bffa6e0-b19f-4890-85a9-50c91172d547"
      },
      "execution_count": 7,
      "outputs": [
        {
          "output_type": "stream",
          "name": "stdout",
          "text": [
            "Enter numbers separated by commas: 1,2,3,45,6,7\n",
            "All elements:\n",
            "1 2 3 45 6 7 \n",
            "\n",
            "Elements at even positions (index 0, 2, 4...):\n",
            "1\n",
            "3\n",
            "6\n",
            "\n",
            "\n",
            "Elements at odd positions (index 1, 3, 5...):\n",
            "2\n",
            "45\n",
            "7\n",
            "\n"
          ]
        }
      ]
    },
    {
      "cell_type": "markdown",
      "source": [
        "**Problem 9**\n",
        "\n",
        "Write a python program that takes few numbers as command line argument. Find the average of those numbers."
      ],
      "metadata": {
        "id": "DAgEW9F75Jf2"
      }
    },
    {
      "cell_type": "code",
      "source": [
        "num = input(\"Enter numbers: \").split()\n",
        "sum = 0\n",
        "for i in num:\n",
        "  sum += int(i)\n",
        "print(sum/len(num))"
      ],
      "metadata": {
        "id": "p_MV-MR_5Tfi",
        "colab": {
          "base_uri": "https://localhost:8080/"
        },
        "outputId": "3b1ecce9-fdc0-4666-99a0-a82a4dcc4bfe"
      },
      "execution_count": 3,
      "outputs": [
        {
          "output_type": "stream",
          "name": "stdout",
          "text": [
            "Enter numbers: 12 34  43 56\n",
            "36.25\n"
          ]
        }
      ]
    },
    {
      "cell_type": "markdown",
      "source": [
        "**Problem 10**\n",
        "\n",
        "Write a Python program that takes a string as input, which contains numbers separated by commas. Convert the string to a list of numbers and determine whether all the numbers are different from each other."
      ],
      "metadata": {
        "id": "rZP_eg_XuKwO"
      }
    },
    {
      "cell_type": "code",
      "source": [
        "string = input(\"Enter numbers: \")\n",
        "num = string.split(\",\")\n",
        "\n",
        "\n",
        "\n",
        "# Check for duplicates\n",
        "all_unique = True\n",
        "\n",
        "for i in range(len(num)):\n",
        "    for j in range(i + 1, len(num)):\n",
        "        if num[i] == num[j]:\n",
        "            all_unique = False\n",
        "            break\n",
        "    if not all_unique:\n",
        "        break\n",
        "\n",
        "if all_unique:\n",
        "    print(\"All numbers are different\")\n",
        "else:\n",
        "    print(\"Not all numbers are different\")\n"
      ],
      "metadata": {
        "id": "Mju8O4-wuuKX",
        "colab": {
          "base_uri": "https://localhost:8080/"
        },
        "outputId": "6976d462-9197-46ff-9b3b-24945b432611"
      },
      "execution_count": 38,
      "outputs": [
        {
          "output_type": "stream",
          "name": "stdout",
          "text": [
            "Enter numbers: 1,2,3,4,5,6,7\n",
            "All numbers are different\n"
          ]
        }
      ]
    },
    {
      "cell_type": "markdown",
      "source": [
        "**Problem 11**\n",
        "\n",
        "Write a Python program that takes a string as input, which contains numbers separated by commas. Convert the string to a list of numbers. Now pick 3 unique numbers from the list whose sum is 100."
      ],
      "metadata": {
        "id": "KgTnX2_eu6l1"
      }
    },
    {
      "cell_type": "code",
      "source": [
        "# Step 1: Input string and convert to list of integers (removing duplicates manually)\n",
        "input_str = input(\"Enter numbers separated by commas: \")\n",
        "\n",
        "# Convert to integer list (ignore invalid parts)\n",
        "raw_numbers = []\n",
        "for x in input_str.split(\",\"):\n",
        "    x = x.strip()\n",
        "    if x.isdigit():\n",
        "        raw_numbers.append(int(x))\n",
        "\n",
        "# Remove duplicates (preserve order)\n",
        "unique_numbers = []\n",
        "for num in raw_numbers:\n",
        "    if num not in unique_numbers:\n",
        "        unique_numbers.append(num)\n",
        "\n",
        "# Step 2: Find the first unique-value triplet that sums to 100\n",
        "n = len(unique_numbers)\n",
        "found = False\n",
        "\n",
        "print(\"\\nFirst triplet that sums to 100 (using unique numbers):\")\n",
        "\n",
        "for i in range(n):\n",
        "    for j in range(i + 1, n):\n",
        "        for k in range(j + 1, n):\n",
        "            a, b, c = unique_numbers[i], unique_numbers[j], unique_numbers[k]\n",
        "            if a + b + c == 100:\n",
        "                print(a, b, c)\n",
        "                found = True\n",
        "                break\n",
        "        if found:\n",
        "            break\n",
        "    if found:\n",
        "        break\n",
        "\n",
        "if not found:\n",
        "    print(\"No such triplet found.\")\n",
        "\n",
        "\n",
        "\n",
        "\n",
        ""
      ],
      "metadata": {
        "id": "RzBHYSKpzY6p",
        "colab": {
          "base_uri": "https://localhost:8080/"
        },
        "outputId": "cd436d03-c5a7-40e2-850c-0b037f479b27"
      },
      "execution_count": 35,
      "outputs": [
        {
          "output_type": "stream",
          "name": "stdout",
          "text": [
            "Enter numbers separated by commas: 1,45,45,50,10,75,24,25\n",
            "\n",
            "First triplet that sums to 100 (using unique numbers):\n",
            "1 75 24\n"
          ]
        }
      ]
    },
    {
      "cell_type": "markdown",
      "source": [
        "**Problem 12**\n",
        "\n",
        "Write a Python program to get 2 positive numbers as input and multiply them without using the '*' operator."
      ],
      "metadata": {
        "id": "6tRt53BBz25I"
      }
    },
    {
      "cell_type": "code",
      "source": [
        "\n",
        "num1 = int(input(\"Enter the first positive number: \"))\n",
        "num2 = int(input(\"Enter the second positive number: \"))\n",
        "\n",
        "\n",
        "if num1 < 0 or num2 < 0:\n",
        "    print(\"Please enter only positive numbers.\")\n",
        "else:\n",
        "    result = 0\n",
        "    for i in range(num2):\n",
        "        result += num1\n",
        "\n",
        "    print(\"The result of multiplying \" + str(num1) + \" and \" + str(num2) +  \" is: \" +  str(result))\n",
        "\n"
      ],
      "metadata": {
        "id": "5WIRg5fw0Fi5",
        "colab": {
          "base_uri": "https://localhost:8080/"
        },
        "outputId": "33f85cbe-a286-4b13-9b1e-6d618ddcc9ef"
      },
      "execution_count": 26,
      "outputs": [
        {
          "output_type": "stream",
          "name": "stdout",
          "text": [
            "Enter the first positive number: 5\n",
            "Enter the second positive number: 4\n",
            "The result of multiplying 5 and 4 is: 20\n"
          ]
        }
      ]
    },
    {
      "cell_type": "markdown",
      "source": [
        "**Problem 13**\n",
        "\n",
        "Write a python program to print first 10 terms in a Fibonacci series"
      ],
      "metadata": {
        "id": "EnXIYV3B0vEi"
      }
    },
    {
      "cell_type": "code",
      "source": [
        "\n",
        "\n",
        "a = 0\n",
        "b = 1\n",
        "\n",
        "print(\"Fibonacci series (first 10 terms):\")\n",
        "for i in range(10):\n",
        "    print(a)\n",
        "    temp = a + b\n",
        "    a = b\n",
        "    b = temp\n"
      ],
      "metadata": {
        "id": "SXHLhERV0xDG"
      },
      "execution_count": null,
      "outputs": []
    },
    {
      "cell_type": "markdown",
      "source": [
        "**Problem 14**\n",
        "\n",
        "Write a python program which takes a number as input and convert the number to binary. Note: Don't use any builtin functions."
      ],
      "metadata": {
        "id": "UvfmEmtZ6_EW"
      }
    },
    {
      "cell_type": "code",
      "source": [
        "number = int(input(\"Enter a number: \"))\n",
        "binary = \"\"\n",
        "while number > 0:\n",
        "  binary = str(number % 2) + binary\n",
        "  number //= 2\n",
        "print(binary)\n"
      ],
      "metadata": {
        "id": "f2YG9RqB7-M9",
        "colab": {
          "base_uri": "https://localhost:8080/"
        },
        "outputId": "4a9a897c-d905-457d-8049-b4581f2f2045"
      },
      "execution_count": 22,
      "outputs": [
        {
          "output_type": "stream",
          "name": "stdout",
          "text": [
            "Enter a number: 10\n",
            "1010\n"
          ]
        }
      ]
    },
    {
      "cell_type": "markdown",
      "source": [
        "**Problem 15**\n",
        "\n",
        "Write a python program which takes a binary number as input and convert the number to decimal. Note: Don't use any builtin functions."
      ],
      "metadata": {
        "id": "mRHDuUD27_E-"
      }
    },
    {
      "cell_type": "code",
      "source": [
        "input_binary = input(\"Enter a binary number: \")\n",
        "decimal = 0\n",
        "for digit in input_binary:\n",
        "  decimal = decimal * 2 + int(digit)\n",
        "print(decimal)\n"
      ],
      "metadata": {
        "id": "9jMTZf7e8MHK",
        "colab": {
          "base_uri": "https://localhost:8080/"
        },
        "outputId": "8c9b598f-290e-4259-8734-f61ccfc943c3"
      },
      "execution_count": 23,
      "outputs": [
        {
          "output_type": "stream",
          "name": "stdout",
          "text": [
            "Enter a binary number: 1010\n",
            "10\n"
          ]
        }
      ]
    },
    {
      "cell_type": "markdown",
      "source": [
        "**Problem 16**\n",
        "\n",
        "Write a Python program that asks the user to input a positive integer n and then prints the multiplication table of n up to 12."
      ],
      "metadata": {
        "id": "Pn3i07JVHqEk"
      }
    },
    {
      "cell_type": "code",
      "source": [
        "n = int(input(\"Enter a positive integer: \"))\n",
        "for i in range(1,13):\n",
        "  print(n,\"*\",i,\"=\",n*i)\n",
        ""
      ],
      "metadata": {
        "id": "_VaYfi7lH01X",
        "colab": {
          "base_uri": "https://localhost:8080/"
        },
        "outputId": "cae135bc-d64b-4144-d5cf-29b08f8cb70d"
      },
      "execution_count": 19,
      "outputs": [
        {
          "output_type": "stream",
          "name": "stdout",
          "text": [
            "Enter a positive integer: 4\n",
            "4 * 1 = 4\n",
            "4 * 2 = 8\n",
            "4 * 3 = 12\n",
            "4 * 4 = 16\n",
            "4 * 5 = 20\n",
            "4 * 6 = 24\n",
            "4 * 7 = 28\n",
            "4 * 8 = 32\n",
            "4 * 9 = 36\n",
            "4 * 10 = 40\n",
            "4 * 11 = 44\n",
            "4 * 12 = 48\n"
          ]
        }
      ]
    },
    {
      "cell_type": "markdown",
      "source": [
        "**Problem 17**\n",
        "\n",
        "Write a Python program that asks the user to input a positive integer n and then counts and prints the number of digits in n."
      ],
      "metadata": {
        "id": "Uv1TuM37H18U"
      }
    },
    {
      "cell_type": "code",
      "source": [
        "n = int(input(\"Enter a positive integer: \"))\n",
        "count = 0\n",
        "while n > 0:\n",
        "  count += 1\n",
        "  n //= 10\n",
        "print(count)\n"
      ],
      "metadata": {
        "id": "5nZOLEh9H_Cp"
      },
      "execution_count": null,
      "outputs": []
    },
    {
      "cell_type": "markdown",
      "source": [
        "**Problem 18**\n",
        "\n",
        "Write a Python program that asks the user to input a positive integer n and then calculates and prints the sum of its digits."
      ],
      "metadata": {
        "id": "aTrir6SzIUc8"
      }
    },
    {
      "cell_type": "code",
      "source": [
        "n = int(input(\"Enter a positive integer: \"))\n",
        "sum = 0\n",
        "while n > 0:\n",
        "  sum += n % 10\n",
        "  n //= 10\n",
        "print(sum)\n"
      ],
      "metadata": {
        "id": "F3QXAF4xIWrl"
      },
      "execution_count": null,
      "outputs": []
    },
    {
      "cell_type": "markdown",
      "source": [
        "**Problem 19**\n",
        "\n",
        "Write a Python program that asks the user to input two positive integers a and b, and then calculates and prints the greatest common divisor (GCD) of a and b using a loop."
      ],
      "metadata": {
        "id": "SU0SPQYNIehv"
      }
    },
    {
      "cell_type": "code",
      "source": [
        "a = int(input(\"Enter the first positive integer: \"))\n",
        "b = int(input(\"Enter the second positive integer: \"))\n",
        "while b != 0:\n",
        "  a, b = b, a % b\n",
        "print(a)\n",
        "\n",
        "\n"
      ],
      "metadata": {
        "id": "BIEkSttXIgzP"
      },
      "execution_count": null,
      "outputs": []
    },
    {
      "cell_type": "markdown",
      "source": [
        "**Problem 20**\n",
        "\n",
        "Write a Python program that asks the user to input a positive integer n and then calculates and prints the sum of the following sequence:\n",
        "\n",
        "1 + 1/2 + 1/3 + ... + 1/n."
      ],
      "metadata": {
        "id": "w63hobswImCa"
      }
    },
    {
      "cell_type": "code",
      "source": [
        "n = int(input(\"Enter a positive integer: \"))\n",
        "sum = 0\n",
        "for i in range(1,n+1):\n",
        "  sum += 1/i\n",
        "print(sum)\n"
      ],
      "metadata": {
        "id": "ao5UL82nIoq-",
        "colab": {
          "base_uri": "https://localhost:8080/"
        },
        "outputId": "64386426-0ec6-4c2b-84ba-30275e391ba8"
      },
      "execution_count": 18,
      "outputs": [
        {
          "output_type": "stream",
          "name": "stdout",
          "text": [
            "Enter a positive integer: 5\n",
            "2.283333333333333\n"
          ]
        }
      ]
    },
    {
      "cell_type": "markdown",
      "source": [
        "**Problem 21: Password Strength Checker**\n",
        "\n",
        "Write a Python program that takes a password as input and checks its strength based on the following criteria:\n",
        "\n",
        "\"Strong\" if the password is at least 8 characters long, contains both uppercase and lowercase letters, and includes at least one number and one special character.\n",
        "\"Moderate\" if the password is at least 6 characters long and meets at least two of the above criteria.\n",
        "\"Weak\" if the password does not meet the criteria for \"Strong\" or \"Moderate\"."
      ],
      "metadata": {
        "id": "O2KPhbic8BQA"
      }
    },
    {
      "cell_type": "code",
      "source": [
        "\n",
        "password = input(\"Enter your password: \")\n",
        "\n",
        "\n",
        "has_upper = False\n",
        "has_lower = False\n",
        "has_digit = False\n",
        "has_special = False\n",
        "\n",
        "special_chars = \"!@#$%^&*(),.?\\\":{}|<>\"\n",
        "length = len(password)\n",
        "\n",
        "\n",
        "for char in password:\n",
        "    if char.isupper():\n",
        "        has_upper = True\n",
        "    elif char.islower():\n",
        "        has_lower = True\n",
        "    elif char.isdigit():\n",
        "        has_digit = True\n",
        "    elif char in special_chars:\n",
        "        has_special = True\n",
        "\n",
        "\n",
        "criteria_met = 0\n",
        "if has_upper:\n",
        "    criteria_met += 1\n",
        "if has_lower:\n",
        "    criteria_met += 1\n",
        "if has_digit:\n",
        "    criteria_met += 1\n",
        "if has_special:\n",
        "    criteria_met += 1\n",
        "\n",
        "\n",
        "if length >= 8 and criteria_met == 4:\n",
        "    print(\"Password strength: Strong\")\n",
        "elif length >= 6 and criteria_met >= 2:\n",
        "    print(\"Password strength: Moderate\")\n",
        "else:\n",
        "    print(\"Password strength: Weak\")\n"
      ],
      "metadata": {
        "id": "O6gYu4IQ8E_q"
      },
      "execution_count": null,
      "outputs": []
    },
    {
      "cell_type": "markdown",
      "source": [
        "**Problem 22: Implement Bubble Sort**\n",
        "\n",
        "Write a python program that sorts the following list\n",
        "[64, 34, 25, 12, 22, 11, 90]<br/>\n",
        "Please use bubble short<br/>\n",
        "Expected output [11, 12, 22, 25, 34, 64, 90]"
      ],
      "metadata": {
        "id": "sgXRH5iWVgd6"
      }
    },
    {
      "cell_type": "code",
      "source": [
        "slist = [64, 34, 25, 12, 22, 11, 90]\n",
        "for i in range(len(slist)):\n",
        "  for j in range(len(slist)-1):\n",
        "    if slist[j] > slist[j+1]:\n",
        "      slist[j], slist[j+1] = slist[j+1], slist[j]\n",
        "print(slist)\n"
      ],
      "metadata": {
        "id": "z6apazqqV4Xv",
        "colab": {
          "base_uri": "https://localhost:8080/"
        },
        "outputId": "4e272d4d-c5ec-467b-841e-291d4c216c59"
      },
      "execution_count": 14,
      "outputs": [
        {
          "output_type": "stream",
          "name": "stdout",
          "text": [
            "[11, 12, 22, 25, 34, 64, 90]\n"
          ]
        }
      ]
    },
    {
      "cell_type": "markdown",
      "source": [
        "**Problem 23: Count Occurrences of a Character**\n",
        "\n",
        "Write a program that takes a string and a character as input and counts the number of occurrences of that character in the string."
      ],
      "metadata": {
        "id": "buHj-z1I1rpY"
      }
    },
    {
      "cell_type": "code",
      "source": [
        "string = input(\"Enter a string = \")\n",
        "char = input (\"Enter a character = \")\n",
        "count = 0\n",
        "for i in string:\n",
        "  if i in char:\n",
        "    count += 1\n",
        "print(count)\n"
      ],
      "metadata": {
        "id": "dmxXZC3y1xvn",
        "colab": {
          "base_uri": "https://localhost:8080/"
        },
        "outputId": "253f0ea2-72a5-4cb4-b892-f52e99708101"
      },
      "execution_count": 13,
      "outputs": [
        {
          "output_type": "stream",
          "name": "stdout",
          "text": [
            "Enter a stringabcde\n",
            "Enter a charactera\n",
            "1\n"
          ]
        }
      ]
    },
    {
      "cell_type": "markdown",
      "source": [
        "**Problem 24: FizzBuzz**\n",
        "\n",
        "Write a python program that prints the numbers from 1 to 100. For multiples of 3, print “Fizz” instead of the number, and for multiples of 5, print “Buzz”. For numbers that are multiples of both, print “FizzBuzz”."
      ],
      "metadata": {
        "id": "6D-p_ytJ1zWE"
      }
    },
    {
      "cell_type": "code",
      "source": [
        "for i in range(1, 100):\n",
        "    if i % 3 == 0 and i % 5 == 0:\n",
        "        print(\"FizzBuzz\")\n",
        "    elif i % 3 == 0:\n",
        "        print(\"Fizz\")\n",
        "    elif i % 5 == 0:\n",
        "        print(\"Buzz\")\n",
        "    else:\n",
        "        print(i)"
      ],
      "metadata": {
        "id": "Z7uqWtse2MfY",
        "colab": {
          "base_uri": "https://localhost:8080/"
        },
        "outputId": "ff8e7380-2788-4e6a-eb55-83b3aa99164b"
      },
      "execution_count": 12,
      "outputs": [
        {
          "output_type": "stream",
          "name": "stdout",
          "text": [
            "1\n",
            "2\n",
            "Fizz\n",
            "4\n",
            "Buzz\n",
            "Fizz\n",
            "7\n",
            "8\n",
            "Fizz\n",
            "Buzz\n",
            "11\n",
            "Fizz\n",
            "13\n",
            "14\n",
            "FizzBuzz\n",
            "16\n",
            "17\n",
            "Fizz\n",
            "19\n",
            "Buzz\n",
            "Fizz\n",
            "22\n",
            "23\n",
            "Fizz\n",
            "Buzz\n",
            "26\n",
            "Fizz\n",
            "28\n",
            "29\n",
            "FizzBuzz\n",
            "31\n",
            "32\n",
            "Fizz\n",
            "34\n",
            "Buzz\n",
            "Fizz\n",
            "37\n",
            "38\n",
            "Fizz\n",
            "Buzz\n",
            "41\n",
            "Fizz\n",
            "43\n",
            "44\n",
            "FizzBuzz\n",
            "46\n",
            "47\n",
            "Fizz\n",
            "49\n",
            "Buzz\n",
            "Fizz\n",
            "52\n",
            "53\n",
            "Fizz\n",
            "Buzz\n",
            "56\n",
            "Fizz\n",
            "58\n",
            "59\n",
            "FizzBuzz\n",
            "61\n",
            "62\n",
            "Fizz\n",
            "64\n",
            "Buzz\n",
            "Fizz\n",
            "67\n",
            "68\n",
            "Fizz\n",
            "Buzz\n",
            "71\n",
            "Fizz\n",
            "73\n",
            "74\n",
            "FizzBuzz\n",
            "76\n",
            "77\n",
            "Fizz\n",
            "79\n",
            "Buzz\n",
            "Fizz\n",
            "82\n",
            "83\n",
            "Fizz\n",
            "Buzz\n",
            "86\n",
            "Fizz\n",
            "88\n",
            "89\n",
            "FizzBuzz\n",
            "91\n",
            "92\n",
            "Fizz\n",
            "94\n",
            "Buzz\n",
            "Fizz\n",
            "97\n",
            "98\n",
            "Fizz\n"
          ]
        }
      ]
    },
    {
      "cell_type": "markdown",
      "source": [
        "**Problem 25: Count Vowels in a String**\n",
        "\n",
        "Write a program that takes a string as input and counts the number of vowels **(a, e, i, o, u)** in it."
      ],
      "metadata": {
        "id": "IkIgQHXW2iWw"
      }
    },
    {
      "cell_type": "code",
      "source": [
        "string = input(\"Enter a string: \")\n",
        "count = 0\n",
        "for i in string:\n",
        "  if i in \"aeiou\":\n",
        "    count += 1\n",
        "print(count)"
      ],
      "metadata": {
        "id": "M6f8uxdo2tCG",
        "colab": {
          "base_uri": "https://localhost:8080/"
        },
        "outputId": "2da2da6d-51a3-46a5-c9d2-d4749248a026"
      },
      "execution_count": 7,
      "outputs": [
        {
          "output_type": "stream",
          "name": "stdout",
          "text": [
            "Enter a string: aaaa\n",
            "4\n"
          ]
        }
      ]
    }
  ]
}