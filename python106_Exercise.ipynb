{
  "nbformat": 4,
  "nbformat_minor": 0,
  "metadata": {
    "colab": {
      "provenance": []
    },
    "kernelspec": {
      "name": "python3",
      "display_name": "Python 3"
    },
    "language_info": {
      "name": "python"
    }
  },
  "cells": [
    {
      "cell_type": "markdown",
      "source": [
        "**Problem 1**\n",
        "\n",
        "A pangram is a sentence using every letter of the alphabet at least once. It is case insensitive, so it doesn't matter if a letter is lower-case (e.g. k) or upper-case (e.g. K).\n",
        "\n",
        "For this exercise, a sentence is a pangram if it contains each of the 26 letters in the English alphabet.\n",
        "\n",
        "Example: The quick brown fox jumps over the lazy dog.\n",
        "\n",
        "*Your task is to figure out if a sentence is a pangram.*"
      ],
      "metadata": {
        "id": "QoMGXk6UXHB9"
      }
    },
    {
      "cell_type": "code",
      "execution_count": 3,
      "metadata": {
        "id": "rDS-zDSbXBNK",
        "colab": {
          "base_uri": "https://localhost:8080/"
        },
        "outputId": "79a814f8-09a8-4705-9eaa-1f8471a0ec74"
      },
      "outputs": [
        {
          "output_type": "stream",
          "name": "stdout",
          "text": [
            "It is a pangram\n"
          ]
        }
      ],
      "source": [
        "sentence = \"The quick brown fox jumps over a lazy dog\"\n",
        "letters = [char for char in sentence.lower() if char.isalpha()]\n",
        "if len(set(letters)) == 26:\n",
        "    print(\"It is a pangram\")\n",
        "else:\n",
        "    print(\"It is not a pangram\")\n",
        "\n"
      ]
    },
    {
      "cell_type": "markdown",
      "source": [
        "**Problem 2**\n",
        "\n",
        "An isogram (also known as a \"non-pattern word\") is a word or phrase without a repeating letter, however spaces and hyphens are allowed to appear multiple times.\n",
        "\n",
        "Examples of isograms:\n",
        "\n",
        "lumberjacks\n",
        "background\n",
        "downstream\n",
        "six-year-old\n",
        "\n",
        "The word isograms, however, is not an isogram, because the s repeats.\n",
        "\n",
        "*Your task is to figure out if the user input is isogram*"
      ],
      "metadata": {
        "id": "nx1PnYYdXomU"
      }
    },
    {
      "cell_type": "code",
      "source": [
        "word = input(\"Enter a word or phrase: \")\n",
        "\n",
        "seen_letters = []\n",
        "\n",
        "for char in word.lower():\n",
        "    if char.isalpha():  # Only check letters\n",
        "        if char in seen_letters:\n",
        "            print(\"It is not an isogram\")\n",
        "            break\n",
        "        else:\n",
        "            seen_letters.append(char)\n",
        "else:\n",
        "    print(\"It is an isogram\")\n"
      ],
      "metadata": {
        "id": "VygYtSBRXzb7",
        "colab": {
          "base_uri": "https://localhost:8080/"
        },
        "outputId": "63f999fa-da59-41e2-f78e-8bade014e4f1"
      },
      "execution_count": 4,
      "outputs": [
        {
          "output_type": "stream",
          "name": "stdout",
          "text": [
            "Enter a word / phrase: six-year-old\n",
            "It is not an isogram\n"
          ]
        }
      ]
    },
    {
      "cell_type": "markdown",
      "source": [
        "**Problem 3**\n",
        "\n",
        "Parse and evaluate simple math word problems returning the answer as an integer.\n",
        "\n",
        "\n",
        "```\n",
        "What is 5?    -> 5\n",
        "What is 5 plus 13?    -> 13\n",
        "What is 7 minus 5?    -> 2\n",
        "What is 6 multiplied by 4?     -> 24\n",
        "What is 25 divided by 5?       -> 5\n",
        "What is 5 plus 13 plus 6?      -> 24\n",
        "What is 3 plus 2 multiplied by 3?       -> 15\n",
        "```"
      ],
      "metadata": {
        "id": "E96wh1LZYk-e"
      }
    },
    {
      "cell_type": "code",
      "source": [
        "problem = input(\"What is \")\n",
        "problem = problem.replace(\"plus\", \"+\")\n",
        "problem = problem.replace(\"minus\", \"-\")\n",
        "problem = problem.replace(\"multiplied by\", \"*\")\n",
        "problem = problem.replace(\"divided by\", \"/\")\n",
        "result = eval(problem)\n",
        "print(result)"
      ],
      "metadata": {
        "id": "7Ah4oxC9ZIro",
        "colab": {
          "base_uri": "https://localhost:8080/"
        },
        "outputId": "f05c22cb-3f79-42a0-91a9-4ac37dc12a79"
      },
      "execution_count": 6,
      "outputs": [
        {
          "output_type": "stream",
          "name": "stdout",
          "text": [
            "What is 5 plus 13\n",
            "18\n"
          ]
        }
      ]
    },
    {
      "cell_type": "markdown",
      "source": [
        "**Problem 4**\n",
        "\n",
        "For this exercise, you need to know two things about them:\n",
        "\n",
        "Each resistor has a resistance value.\n",
        "Resistors are small - so small in fact that if you printed the resistance value on them, it would be hard to read.\n",
        "To get around this problem, manufacturers print color-coded bands onto the resistors to denote their resistance values. Each band has a position and a numeric value.\n",
        "\n",
        "The first 2 bands of a resistor have a simple encoding scheme: each color maps to a single number. For example, if they printed a brown band (value 1) followed by a green band (value 5), it would translate to the number 15.\n",
        "\n",
        "In this exercise you are going to create a helpful program so that you don't have to remember the values of the bands. The program will take color names as input and output a two digit number, even if the input is more than two colors!\n",
        "\n",
        "The band colors are encoded as follows:\n",
        "\n",
        "```\n",
        "1.   Black: 0\n",
        "2.   Brown: 1\n",
        "3.   Red: 2\n",
        "4.   Orange: 3\n",
        "5.   Yellow: 4\n",
        "6.   Green: 5\n",
        "7.   Blue: 6\n",
        "8.   Violet: 7\n",
        "9.   Grey: 8\n",
        "10.  White: 9\n",
        "```\n",
        "\n",
        "*From the example above:*\n",
        "\n",
        "brown-green should return 15\n",
        "\n",
        "brown-green-violet should return 15 too, ignoring the third color"
      ],
      "metadata": {
        "id": "hYxixq3Paw83"
      }
    },
    {
      "cell_type": "code",
      "source": [
        "# Create a list where the index matches the value of the color\n",
        "colors = [\"black\", \"brown\", \"red\", \"orange\", \"yellow\",\n",
        "          \"green\", \"blue\", \"violet\", \"grey\", \"white\"]\n",
        "\n",
        "# Get user input\n",
        "input_str = input(\"Enter resistor colors (separated by hyphens): \").lower()\n",
        "\n",
        "# Split the input by hyphens\n",
        "bands = input_str.split(\"-\")\n",
        "\n",
        "# Get the first two colors only\n",
        "if len(bands) >= 2:\n",
        "    first = bands[0]\n",
        "    second = bands[1]\n",
        "\n",
        "    # Look up values in the color list\n",
        "    if first in colors and second in colors:\n",
        "        digit1 = colors.index(first)\n",
        "        digit2 = colors.index(second)\n",
        "        print(f\"Resistor value: {digit1}{digit2}\")\n",
        "    else:\n",
        "        print(\"Invalid color name(s).\")\n",
        "else:\n",
        "    print(\"Please enter at least two colors.\")\n"
      ],
      "metadata": {
        "id": "k86PCFlJbLQG",
        "colab": {
          "base_uri": "https://localhost:8080/"
        },
        "outputId": "73ab9c28-6666-4b82-81d3-9f3a69c2d5b3"
      },
      "execution_count": 7,
      "outputs": [
        {
          "output_type": "stream",
          "name": "stdout",
          "text": [
            "Enter the color names separated by hyphens: brown-green-violet\n",
            "012\n"
          ]
        }
      ]
    },
    {
      "cell_type": "markdown",
      "source": [
        "**Problem 5**\n",
        "\n",
        "*Your task is to Validate Credit Card Number*\n",
        "\n",
        "Given a number determine whether or not it is valid per the Luhn formula.\n",
        "\n",
        "The Luhn algorithm is a simple checksum formula used to validate a variety of identification numbers, such as credit card numbers and Canadian Social Insurance Numbers.\n",
        "\n",
        "The task is to check if a given string is valid\n",
        "\n",
        "Valid credit card number\n",
        "\n",
        "4539 3195 0343 6467\n",
        "\n",
        "The first step of the Luhn algorithm is to double every second digit, starting from the right. We will be doubling\n",
        "\n",
        "4_3_ 3_9_ 0_4_ 6_6_\n",
        "\n",
        "If doubling the number results in a number greater than 9 then subtract 9 from the product. The results of our doubling:\n",
        "\n",
        "8569 6195 0383 3437\n",
        "\n",
        "Then sum all of the digits:\n",
        "\n",
        "8+5+6+9+6+1+9+5+0+3+8+3+3+4+3+7 = 80\n",
        "\n",
        "If the sum is evenly divisible by 10, then the number is valid. This number is valid!"
      ],
      "metadata": {
        "id": "Lobv2LGbbX1D"
      }
    },
    {
      "cell_type": "code",
      "source": [
        "card_number = input(\"Enter credit card number: \").replace(\" \", \"\")\n",
        "\n",
        "if not card_number.isdigit():\n",
        "    print(\"Invalid input: must contain digits only (spaces allowed).\")\n",
        "else:\n",
        "    digits = [int(d) for d in card_number]\n",
        "    digits.reverse()  # Reverse to make processing easier\n",
        "\n",
        "    total = 0\n",
        "    for i in range(len(digits)):\n",
        "        num = digits[i]\n",
        "        if i % 2 == 1:\n",
        "            num *= 2\n",
        "            if num > 9:\n",
        "                num -= 9\n",
        "        total += num\n",
        "\n",
        "    if total % 10 == 0:\n",
        "        print(\"Valid credit card number!\")\n",
        "    else:\n",
        "        print(\"Invalid credit card number.\")\n"
      ],
      "metadata": {
        "id": "IDuW6CSCy5aE"
      },
      "execution_count": null,
      "outputs": []
    },
    {
      "cell_type": "markdown",
      "source": [
        "**Problem 6**\n",
        "\n",
        "Write a Python class that has two methods: getString and printString , The getString accept a string from the user and printString prints the string in upper case."
      ],
      "metadata": {
        "id": "bHDdXXcjFmCe"
      }
    },
    {
      "cell_type": "code",
      "source": [
        "def getString():\n",
        "    string = input(\"Enter a string: \")\n",
        "    return string\n",
        "\n",
        "def printString(string):\n",
        "    print(string.upper())\n",
        "\n",
        "string = getString()\n",
        "printString(string)"
      ],
      "metadata": {
        "id": "m63ggCk_FyBB"
      },
      "execution_count": null,
      "outputs": []
    },
    {
      "cell_type": "markdown",
      "source": [
        "**Problem 7**\n",
        "\n",
        "Create a class Temperature that has a property celsius to get and set the temperature in Celsius and another property fahrenheit to get and set the temperature in Fahrenheit. The fahrenheit property should convert the temperature to and from Celsius."
      ],
      "metadata": {
        "id": "5-6cZZTw55Lt"
      }
    },
    {
      "cell_type": "code",
      "source": [
        "class Temperature:\n",
        "    def __init__(self, celsius=0):\n",
        "        self._celsius = celsius\n",
        "\n",
        "    @property\n",
        "    def celsius(self):\n",
        "        return self._celsius\n",
        "\n",
        "    @celsius.setter\n",
        "    def celsius(self, value):\n",
        "        self._celsius = value\n",
        "\n",
        "    @property\n",
        "    def fahrenheit(self):\n",
        "        return (self._celsius * 9/5) + 32\n",
        "\n",
        "    @fahrenheit.setter\n",
        "    def fahrenheit(self, value):\n",
        "        self._celsius = (value - 32) * 5/9\n",
        "\n",
        "\n",
        "\n",
        "t = Temperature()\n",
        "t.celsius = 25\n",
        "print(\"Celsius:\", t.celsius)       # 25\n",
        "print(\"Fahrenheit:\", t.fahrenheit) # 77.0\n",
        "\n",
        "t.fahrenheit = 98.6\n",
        "print(\"Celsius:\", t.celsius)       # 37.0\n",
        "print(\"Fahrenheit:\", t.fahrenheit) # 98.6\n"
      ],
      "metadata": {
        "id": "pOIhPwFS6CC5"
      },
      "execution_count": null,
      "outputs": []
    },
    {
      "cell_type": "markdown",
      "source": [
        "**Problem 8**\n",
        "\n",
        "Create a class *Book* with attributes title, author, and pages. Ensure that the class constructor requires these attributes. Create multiple instances of Book and display their details.\n",
        "\n",
        "Add a method price that returns the price of the book using a formula pages * 10. Add another method that prints all the details of the book. Create an instance of the Book class and display the details."
      ],
      "metadata": {
        "id": "GeVVh-5p5gTT"
      }
    },
    {
      "cell_type": "code",
      "source": [
        "class Book:\n",
        "    def __init__(self, title, author, pages):\n",
        "        self.title = title\n",
        "        self.author = author\n",
        "        self.pages = pages\n",
        "\n",
        "    def price(self):\n",
        "        return self.pages * 10\n",
        "\n",
        "    def display_details(self):\n",
        "        print(f\"Title: {self.title}\")\n",
        "        print(f\"Author: {self.author}\")\n",
        "        print(f\"Pages: {self.pages}\")\n",
        "        print(f\"Price: {self.price()}\")\n",
        "\n",
        "# Create multiple instances\n",
        "book1 = Book(\"Python Programming\", \"Alice Smith\", 250)\n",
        "book2 = Book(\"Data Science 101\", \"Bob Johnson\", 300)\n",
        "\n",
        "# Display details\n",
        "book1.display_details()\n",
        "print()  # Just for spacing\n",
        "book2.display_details()\n"
      ],
      "metadata": {
        "id": "I3PXkT8j5nCt"
      },
      "execution_count": null,
      "outputs": []
    },
    {
      "cell_type": "markdown",
      "source": [
        "**Problem 9**\n",
        "\n",
        "Write a Python class Employee with properties id, name, salary, and department and methods like \\__init__ calculateSalary, assignDepartment and \\__str__.\n",
        "\n",
        "Sample Employee Data:\n",
        "\n",
        "```\n",
        "\"E7876\", \"ADAMS\", 50000, \"ACCOUNTING\"\n",
        "\"E7499\", \"JONES\", 45000, \"RESEARCH\"\n",
        "\"E7900\", \"MARTIN\", 50000, \"SALES\"\n",
        "\"E7698\", \"SMITH\", 55000, \"OPERATIONS\"\n",
        "```\n",
        "Use 'assignDepartment' method to change the department of an employee.\n",
        "\n",
        "Use '\\__str__' method to print the details of an employee.\n",
        "\n",
        "Use 'calculateSalary' method takes two arguments: salary and hours_worked, which is the number of hours worked by the employee. If the number of hours worked is more than 50, the method computes overtime and adds it to the salary.\n",
        "\n",
        "Overtime is calculated as following formula:\n",
        "overtime = hours_worked - 50\n",
        "Overtime amount = (overtime * (salary / 50))"
      ],
      "metadata": {
        "id": "OwNVg-Wf_slB"
      }
    },
    {
      "cell_type": "code",
      "source": [
        "class Employee:\n",
        "    def __init__(self, id, name, salary, department):\n",
        "        self.id = id\n",
        "        self.name = name\n",
        "        self.salary = salary\n",
        "        self.department = department\n",
        "\n",
        "    def calculateSalary(self, salary, hours_worked):\n",
        "        overtime_pay = 0\n",
        "        if hours_worked > 50:\n",
        "            overtime = hours_worked - 50\n",
        "            overtime_pay = overtime * (salary / 50)\n",
        "        total_salary = salary + overtime_pay\n",
        "        return total_salary\n",
        "\n",
        "    def assignDepartment(self, new_department):\n",
        "        self.department = new_department\n",
        "\n",
        "    def __str__(self):\n",
        "        return (f\"ID: {self.id}\\n\"\n",
        "                f\"Name: {self.name}\\n\"\n",
        "                f\"Salary: {self.salary}\\n\"\n",
        "                f\"Department: {self.department}\")\n",
        "\n",
        "# Sample data creation\n",
        "employees = [\n",
        "    Employee(\"E7876\", \"ADAMS\", 50000, \"ACCOUNTING\"),\n"
      ],
      "metadata": {
        "id": "XdG56X5pAehB"
      },
      "execution_count": null,
      "outputs": []
    },
    {
      "cell_type": "markdown",
      "source": [
        "**Problem 10**\n",
        "\n",
        "Write a Python class Inventory with attributes like id, productName, availableQuantity and price. Add methods like addItem, updateItem, and checkItem_details.\n",
        "\n",
        "Use a dictionary to store the item details, where the key is the id and the value is a dictionary containing the productName, availableQuantity and price.\n",
        "\n",
        "Sample Data:\n",
        "\n",
        "\n",
        "```\n",
        "{\n",
        "  \"97410\": {\n",
        "    \"name\": \"Television\",\n",
        "    \"availableQuantity\": 20,\n",
        "    \"price\": 1455.99\n",
        "  },\n",
        "  \"97411\": {\n",
        "    \"name\": \"Radio\",\n",
        "    \"availableQuantity\": 32,\n",
        "    \"price\": 654.25\n",
        "  }\n",
        "}\n",
        "```\n",
        "\n",
        "\n"
      ],
      "metadata": {
        "id": "Q2R8aBS9BAlQ"
      }
    },
    {
      "cell_type": "code",
      "source": [
        "class Inventory:\n",
        "    def __init__(self):\n",
        "        # Stores items as {id: {name, availableQuantity, price}}\n",
        "        self.items = {}\n",
        "\n",
        "    def addItem(self, id, productName, availableQuantity, price):\n",
        "        if id in self.items:\n",
        "            print(f\"Item with ID {id} already exists. Use updateItem to modify it.\")\n",
        "        else:\n",
        "            self.items[id] = {\n",
        "                \"name\": productName,\n",
        "                \"availableQuantity\": availableQuantity,\n",
        "                \"price\": price\n",
        "            }\n",
        "            print(f\"Item {productName} added with ID {id}.\")\n",
        "\n",
        "    def updateItem(self, id, productName=None, availableQuantity=None, price=None):\n",
        "        if id not in self.items:\n",
        "            print(f\"Item with ID {id} not found.\")\n",
        "            return\n",
        "\n",
        "        if productName is not None:\n",
        "            self.items[id][\"name\"] = productName\n",
        "        if availableQuantity is not None:\n",
        "            self.items[id][\"availableQuantity\"] = availableQuantity\n",
        "        if price is not None:\n",
        "            self.items[id][\"price\"] = price\n",
        "\n",
        "        print(f\"Item with ID {id} updated.\")\n",
        "\n",
        "    def checkItem_details(self, id):\n",
        "        if id in self.items:\n",
        "            item = self.items[id]\n",
        "            print(f\"ID: {id}\")\n",
        "            print(f\"Product Name: {item['name']}\")\n",
        "            print(f\"Available Quantity: {item['availableQuantity']}\")\n",
        "            print(f\"Price: {item['price']}\")\n",
        "        else:\n",
        "            print(f\"Item with ID {id} not found.\")\n",
        "\n",
        "\n",
        "# Example usage\n",
        "inventory = Inventory()\n",
        "\n",
        "# Adding sample data\n",
        "inventory.addItem(\"97410\", \"Television\", 20, 1455.99)\n",
        "inventory.addItem(\"97411\", \"Radio\", 32, 654.25)\n",
        "\n",
        "# Checking item details\n",
        "inventory.checkItem_details(\"97410\")\n",
        "\n",
        "# Updating item\n",
        "inventory.updateItem(\"97410\", availableQuantity=18, price=1400.00)\n",
        "\n",
        "# Checking updated item\n",
        "inventory.checkItem_details(\"97410\")\n"
      ],
      "metadata": {
        "id": "2AtN1IClCEUS"
      },
      "execution_count": null,
      "outputs": []
    },
    {
      "cell_type": "markdown",
      "source": [
        "**Problem 11**\n",
        "\n",
        "Write a  Python class BankAccount with attributes like accountNumber, openingBalance, currentBalance dateOfOpening and customerName. Add methods like deposit, withdraw, and checkBalance."
      ],
      "metadata": {
        "id": "v07XqqlWCeF3"
      }
    },
    {
      "cell_type": "code",
      "source": [
        "from datetime import date\n",
        "\n",
        "class BankAccount:\n",
        "    def __init__(self, accountNumber, openingBalance, dateOfOpening, customerName):\n",
        "        self.accountNumber = accountNumber\n",
        "        self.openingBalance = openingBalance\n",
        "        self.currentBalance = openingBalance\n",
        "        self.dateOfOpening = dateOfOpening\n",
        "        self.customerName = customerName\n",
        "\n",
        "    def deposit(self, amount):\n",
        "        if amount > 0:\n",
        "            self.currentBalance += amount\n",
        "            print(f\"Deposited: {amount}\")\n",
        "        else:\n",
        "            print(\"Deposit amount must be positive.\")\n",
        "\n",
        "    def withdraw(self, amount):\n",
        "        if amount <= 0:\n",
        "            print(\"Withdrawal amount must be positive.\")\n",
        "        elif amount > self.currentBalance:\n",
        "            print(\"Insufficient balance.\")\n",
        "        else:\n",
        "            self.currentBalance -= amount\n",
        "            print(f\"Withdrawn: {amount}\")\n",
        "\n",
        "    def checkBalance(self):\n",
        "        print(f\"Current balance: {self.currentBalance}\")\n",
        "\n",
        "# Example usage:\n",
        "account = BankAccount(\n",
        "    accountNumber=\"1234567890\",\n",
        "    openingBalance=1000.0,\n",
        "    dateOfOpening=date.today(),\n",
        "    customerName=\"John Doe\"\n",
        ")\n",
        "\n",
        "account.checkBalance()\n",
        "account.deposit(500)\n",
        "account.withdraw(200)\n",
        "account.checkBalance()\n"
      ],
      "metadata": {
        "id": "QumPFVaFEm2N"
      },
      "execution_count": null,
      "outputs": []
    },
    {
      "cell_type": "markdown",
      "source": [
        "**Problem 12**\n",
        "\n",
        "Write a Python class to check the validity of a string of parentheses,\n",
        "\n",
        "```\n",
        "'(', ')', '{', '}', '[' and '].\n",
        "```\n",
        "\n",
        "These brackets must be closed in the correct order,\n",
        "for example\n",
        "\n",
        "```\n",
        "\"()\" and \"()[]{}\" are valid\n",
        "\"[)\", \"({[)]\" and \"{{{\" are invalid.\n",
        "```"
      ],
      "metadata": {
        "id": "KrpUr80GGgI-"
      }
    },
    {
      "cell_type": "code",
      "source": [
        "class ParenthesesValidator:\n",
        "    def __init__(self, s):\n",
        "        self.s = s\n",
        "\n",
        "    def is_valid(self):\n",
        "        stack = []\n",
        "        pairs = {')': '(', '}': '{', ']': '['}\n",
        "\n",
        "        for char in self.s:\n",
        "            if char in pairs.values():\n",
        "                stack.append(char)\n",
        "            elif char in pairs:\n",
        "                if not stack or stack.pop() != pairs[char]:\n",
        "                    return False\n",
        "            else:\n",
        "                # Ignore other characters or return False if invalid chars not allowed\n",
        "                pass\n",
        "\n",
        "        return len(stack) == 0\n",
        "\n",
        "\n",
        "# Example usage:\n",
        "examples = [\"()\", \"()[]{}\", \"[)\", \"({[)]\", \"{{{\"]\n",
        "\n",
        "validator = ParenthesesValidator(\"\")\n",
        "\n",
        "for example in examples:\n",
        "    validator.s = example\n",
        "    print(f\"{example}: {validator.is_valid()}\")\n"
      ],
      "metadata": {
        "id": "5NaskGz8GmNJ"
      },
      "execution_count": null,
      "outputs": []
    },
    {
      "cell_type": "markdown",
      "source": [
        "**Problem 13**\n",
        "\n",
        "Create a base class Shape with a method area that returns 0. Then, create two subclasses Circle and Square, each with their own implementation of the area method. The Circle class should take a radius, and the Square class should take a side length. Demonstrate polymorphism by creating a list of shapes and iterating through them to print their areas"
      ],
      "metadata": {
        "id": "jwjRL57P2kGe"
      }
    },
    {
      "cell_type": "code",
      "source": [
        "import math\n",
        "\n",
        "# Base class\n",
        "class Shape:\n",
        "    def area(self):\n",
        "        return 0\n",
        "\n",
        "# Circle subclass\n",
        "class Circle(Shape):\n",
        "    def __init__(self, radius):\n",
        "        self.radius = radius\n",
        "\n",
        "    def area(self):\n",
        "        return math.pi * self.radius ** 2\n",
        "\n",
        "# Square subclass\n",
        "class Square(Shape):\n",
        "    def __init__(self, side):\n",
        "        self.side = side\n",
        "\n",
        "    def area(self):\n",
        "        return self.side ** 2\n",
        "\n",
        "# Demonstrate polymorphism\n",
        "shapes = [Circle(3), Square(4), Circle(1.5), Square(2)]\n",
        "\n",
        "for shape in shapes:\n",
        "    print(f\"Area: {shape.area():.2f}\")\n"
      ],
      "metadata": {
        "id": "AtycZXMw2pOa"
      },
      "execution_count": null,
      "outputs": []
    },
    {
      "cell_type": "markdown",
      "source": [
        "**Problem 14**\n",
        "\n",
        "Create a class ComplexNumber that represents a complex number with attributes real and imaginary. Overload the + operator to add two complex numbers and the __str__ method to display the complex number in the form \"a + bi\". Test the addition of two complex numbers."
      ],
      "metadata": {
        "id": "8sLaFxLd2qHX"
      }
    },
    {
      "cell_type": "code",
      "source": [
        "class ComplexNumber:\n",
        "    def __init__(self, real, imaginary):\n",
        "        self.real = real\n",
        "        self.imaginary = imaginary\n",
        "\n",
        "    def __add__(self, other):\n",
        "        if not isinstance(other, ComplexNumber):\n",
        "            return NotImplemented\n",
        "        return ComplexNumber(self.real + other.real, self.imaginary + other.imaginary)\n",
        "\n",
        "    def __str__(self):\n",
        "        sign = '+' if self.imaginary >= 0 else '-'\n",
        "        return f\"{self.real} {sign} {abs(self.imaginary)}i\"\n",
        "\n",
        "\n",
        "# Test the addition\n",
        "c1 = ComplexNumber(3, 4)\n",
        "c2 = ComplexNumber(1, -2)\n",
        "\n",
        "result = c1 + c2\n",
        "print(result)  # Output: 4 + 2i\n"
      ],
      "metadata": {
        "id": "DpiAKuz02zZ_"
      },
      "execution_count": null,
      "outputs": []
    },
    {
      "cell_type": "markdown",
      "source": [
        "**Problem 15**\n",
        "\n",
        "Create a class Engine with an attribute horsepower. Then, create a class Car that has an attribute engine of type Engine. Demonstrate aggregation by creating a Car with a Engine object, and print the car's horsepower. Demonstrate your understanding of Aggregation, Composition and has a relationship in this problem by adding all necessary properties and methods."
      ],
      "metadata": {
        "id": "wiwfjv6f27og"
      }
    },
    {
      "cell_type": "code",
      "source": [
        "# Engine class\n",
        "class Engine:\n",
        "    def __init__(self, horsepower):\n",
        "        self.horsepower = horsepower\n",
        "\n",
        "    def get_horsepower(self):\n",
        "        return self.horsepower\n",
        "\n",
        "\n",
        "# Car class demonstrating Aggregation\n",
        "class CarAggregation:\n",
        "    def __init__(self, engine):\n",
        "        # Aggregation: Engine passed in from outside, can exist independently\n",
        "        self.engine = engine\n",
        "\n",
        "    def show_horsepower(self):\n",
        "        print(f\"Car engine horsepower (Aggregation): {self.engine.get_horsepower()}\")\n",
        "\n",
        "\n",
        "# Car class demonstrating Composition\n",
        "class CarComposition:\n",
        "    def __init__(self, horsepower):\n",
        "        # Composition: Car creates and owns the Engine instance\n",
        "        self.engine = Engine(horsepower)\n",
        "\n",
        "    def show_horsepower(self):\n",
        "        print(f\"Car engine horsepower (Composition): {self.engine.get_horsepower()}\")\n",
        "\n",
        "\n",
        "# --- Demonstration ---\n",
        "\n",
        "# Aggregation example: engine exists independently\n",
        "external_engine = Engine(250)\n",
        "car1 = CarAggregation(external_engine)\n",
        "car1.show_horsepower()  # Output: 250\n",
        "\n",
        "# Composition example: car owns engine\n",
        "car2 = CarComposition(300)\n",
        "car2.show_horsepower()  # Output: 300\n",
        "\n",
        "# Engine still exists after car1 is destroyed (aggregation)\n",
        "del car1\n",
        "print(f\"Engine still exists with horsepower: {external_engine.get_horsepower()}\")  # 250\n",
        "\n",
        "# If car2 is destroyed, engine is also destroyed (composition)\n",
        "del car2\n",
        "# engine inside car2 no longer accessible\n"
      ],
      "metadata": {
        "id": "JTV5h_Jx3YUY"
      },
      "execution_count": null,
      "outputs": []
    },
    {
      "cell_type": "markdown",
      "source": [
        "**Problem 16**\n",
        "\n",
        "Create a class Time with attributes hours and minutes. Implement the __str__, __add__, and __sub__ magic methods to display the time, add two Time objects, and subtract one Time object from another, respectively. Ensure that the time is displayed in hh:mm format."
      ],
      "metadata": {
        "id": "Yfi1NKVG3dbY"
      }
    },
    {
      "cell_type": "code",
      "source": [
        "class Time:\n",
        "    def __init__(self, hours=0, minutes=0):\n",
        "        self.hours = hours\n",
        "        self.minutes = minutes\n",
        "        self._normalize()\n",
        "\n",
        "    def _normalize(self):\n",
        "        # Normalize minutes and hours so that minutes < 60 and hours >= 0\n",
        "        if self.minutes >= 60:\n",
        "            self.hours += self.minutes // 60\n",
        "            self.minutes = self.minutes % 60\n",
        "        elif self.minutes < 0:\n",
        "            # Borrow hours if minutes negative\n",
        "            borrow = (abs(self.minutes) + 59) // 60\n",
        "            self.hours -= borrow\n",
        "            self.minutes += borrow * 60\n",
        "        if self.hours < 0:\n",
        "            self.hours = 0\n",
        "            self.minutes = 0\n",
        "\n",
        "    def __str__(self):\n",
        "        # Display time in hh:mm format with leading zeros\n",
        "        return f\"{self.hours:02d}:{self.minutes:02d}\"\n",
        "\n",
        "    def __add__(self, other):\n",
        "        if not isinstance(other, Time):\n",
        "            return NotImplemented\n",
        "        new_hours = self.hours + other.hours\n",
        "        new_minutes = self.minutes + other.minutes\n",
        "        return Time(new_hours, new_minutes)\n",
        "\n",
        "    def __sub__(self, other):\n",
        "        if not isinstance(other, Time):\n",
        "            return NotImplemented\n"
      ],
      "metadata": {
        "id": "jWhJfL2s3kUv"
      },
      "execution_count": null,
      "outputs": []
    },
    {
      "cell_type": "markdown",
      "source": [
        "**Problem 17**\n",
        "\n",
        "Create a custom exception class InsufficientFundsError that inherits from the base Exception class. Use this exception in the BankAccount class created earlier to raise an error when someone tries to withdraw more money than is available in the account.\n",
        "\n",
        "These problems cover a wide range of class-related topics and will help build a strong foundation in object-oriented programming using Python."
      ],
      "metadata": {
        "id": "zzyeegwU3lR-"
      }
    },
    {
      "cell_type": "code",
      "source": [
        "# Custom Exception\n",
        "class InsufficientFundsError(Exception):\n",
        "    def __init__(self, message=\"Insufficient funds in the account\"):\n",
        "        self.message = message\n",
        "        super().__init__(self.message)\n",
        "\n",
        "\n",
        "# Updated BankAccount class\n",
        "class BankAccount:\n",
        "    def __init__(self, initial_balance=0):\n",
        "        self.__balance = initial_balance\n",
        "\n",
        "    def deposit(self, amount):\n",
        "        if amount > 0:\n",
        "            self.__balance += amount\n",
        "            print(f\"Deposited: {amount}\")\n",
        "        else:\n",
        "            print(\"Deposit amount must be positive.\")\n",
        "\n",
        "    def withdraw(self, amount):\n",
        "        if amount <= 0:\n",
        "            print(\"Withdrawal amount must be positive.\")\n",
        "        elif amount > self.__balance:\n",
        "            raise InsufficientFundsError(f\"Cannot withdraw {amount}: only {self.__balance} available.\")\n",
        "        else:\n",
        "            self.__balance -= amount\n",
        "            print(f\"Withdrew: {amount}\")\n",
        "\n",
        "    def get_balance(self):\n",
        "        return self.__balance\n",
        "\n",
        "\n",
        "# Example usage:\n",
        "account = BankAccount(100)\n",
        "account.deposit(50)\n",
        "try:\n",
        "    account.withdraw(200)  # This will raise the custom exception\n",
        "except InsufficientFundsError as e:\n",
        "    print(\"Error:\", e)\n",
        "\n",
        "print(\"Balance:\", account.get_balance())\n"
      ],
      "metadata": {
        "id": "qJ8aEqph3r1U"
      },
      "execution_count": null,
      "outputs": []
    },
    {
      "cell_type": "markdown",
      "source": [
        "**Problem 18**\n",
        "\n",
        "Create a class TemperatureConverter with a static method celsius_to_fahrenheit that converts Celsius to Fahrenheit and another static method fahrenheit_to_celsius that converts Fahrenheit to Celsius. Demonstrate the usage of these methods without creating an instance of the class.\n",
        "\n",
        "Bonus: Add a class method that keeps track of how many conversions have been performed."
      ],
      "metadata": {
        "id": "zkr5vlOR35R4"
      }
    },
    {
      "cell_type": "code",
      "source": [
        "class TemperatureConverter:\n",
        "    conversion_count = 0  # Class variable to track conversions\n",
        "\n",
        "    @staticmethod\n",
        "    def celsius_to_fahrenheit(celsius):\n",
        "        TemperatureConverter.conversion_count += 1\n",
        "        return (celsius * 9/5) + 32\n",
        "\n",
        "    @staticmethod\n",
        "    def fahrenheit_to_celsius(fahrenheit):\n",
        "        TemperatureConverter.conversion_count += 1\n",
        "        return (fahrenheit - 32) * 5/9\n",
        "\n",
        "    @classmethod\n",
        "    def get_conversion_count(cls):\n",
        "        return cls.conversion_count\n",
        "\n",
        "\n",
        "# Demonstrate usage without creating an instance\n",
        "f = TemperatureConverter.celsius_to_fahrenheit(25)\n",
        "print(f\"25°C is {f}°F\")\n",
        "\n",
        "c = TemperatureConverter.fahrenheit_to_celsius(77)\n",
        "print(f\"77°F is {c:.2f}°C\")\n",
        "\n",
        "print(\"Total conversions performed:\", TemperatureConverter.get_conversion_count())\n"
      ],
      "metadata": {
        "id": "lLr6A2Jf3_r3"
      },
      "execution_count": null,
      "outputs": []
    },
    {
      "cell_type": "markdown",
      "source": [
        "**Problem 19**\n",
        "\n",
        "Create a class BankAccount with a private attribute balance. Add methods to deposit and withdraw money from the account. Ensure that the balance cannot be directly accessed from outside the class but can be modified through the deposit and withdraw methods. Also, add a method get_balance to view the balance."
      ],
      "metadata": {
        "id": "cwbjKzva4Eov"
      }
    },
    {
      "cell_type": "code",
      "source": [
        "class BankAccount:\n",
        "    def __init__(self, initial_balance=0):\n",
        "        self.__balance = initial_balance  # Private attribute\n",
        "\n",
        "    def deposit(self, amount):\n",
        "        if amount > 0:\n",
        "            self.__balance += amount\n",
        "            print(f\"Deposited: {amount}\")\n",
        "        else:\n",
        "            print(\"Deposit amount must be positive.\")\n",
        "\n",
        "    def withdraw(self, amount):\n",
        "        if amount <= 0:\n",
        "            print(\"Withdrawal amount must be positive.\")\n",
        "        elif amount > self.__balance:\n",
        "            print(\"Insufficient funds.\")\n",
        "        else:\n",
        "            self.__balance -= amount\n",
        "            print(f\"Withdrew: {amount}\")\n",
        "\n",
        "    def get_balance(self):\n",
        "        return self.__balance\n",
        "\n",
        "\n",
        "# Example usage:\n",
        "account = BankAccount(100)\n",
        "account.deposit(50)           # Deposited: 50\n",
        "account.withdraw(30)          # Withdrew: 30\n",
        "print(\"Balance:\", account.get_balance())  # Balance: 120\n",
        "\n",
        "# Trying to access balance directly (will fail)\n",
        "# print(account.__balance)   # AttributeError\n"
      ],
      "metadata": {
        "id": "f9j_qv1_4Hrc"
      },
      "execution_count": null,
      "outputs": []
    },
    {
      "cell_type": "markdown",
      "source": [
        "**Problem 20**\n",
        "\n",
        "Create a base class Person with attributes name and age, and a method display_info that prints the name and age. Then, create a subclass Student that inherits from Person and adds the attribute student_id. Override the display_info method to also display the student_id. Create an instance of Student and call the display_info method."
      ],
      "metadata": {
        "id": "p3F77PJ-4ImX"
      }
    },
    {
      "cell_type": "code",
      "source": [
        "# Base class\n",
        "class Person:\n",
        "    def __init__(self, name, age):\n",
        "        self.name = name\n",
        "        self.age = age\n",
        "\n",
        "    def display_info(self):\n",
        "        print(f\"Name: {self.name}\")\n",
        "        print(f\"Age: {self.age}\")\n",
        "\n",
        "# Subclass Student\n",
        "class Student(Person):\n",
        "    def __init__(self, name, age, student_id):\n",
        "        super().__init__(name, age)\n",
        "        self.student_id = student_id\n",
        "\n",
        "    def display_info(self):\n",
        "        super().display_info()\n",
        "        print(f\"Student ID: {self.student_id}\")\n",
        "\n",
        "# Create an instance of Student\n",
        "student = Student(\"Alice\", 20, \"S12345\")\n",
        "\n",
        "# Call display_info\n",
        "student.display_info()\n"
      ],
      "metadata": {
        "id": "SwWAhdyp4SJ3"
      },
      "execution_count": null,
      "outputs": []
    },
    {
      "cell_type": "markdown",
      "source": [
        "<b>Problem 21: Track Instances of a Class</b><br/>\n",
        "\n",
        "Write a class Student that tracks the number of students created. Use a class variable student_count to keep track of the count.\n",
        "\n",
        "1. Each time a new Student object is created, increment student_count.\n",
        "2. Add a method total_students() that returns the current count of students."
      ],
      "metadata": {
        "id": "PsbjEM9OIGsH"
      }
    },
    {
      "cell_type": "code",
      "source": [
        "class Student:\n",
        "    student_count = 0  # Class variable to track count\n",
        "\n",
        "    def __init__(self, name):\n",
        "        self.name = name\n",
        "        Student.student_count += 1  # Increment count whenever a new student is created\n",
        "\n",
        "    @classmethod\n",
        "    def total_students(cls):\n",
        "        return cls.student_count\n",
        "\n",
        "\n",
        "# Example usage:\n",
        "s1 = Student(\"Alice\")\n",
        "s2 = Student(\"Bob\")\n",
        "print(\"Total students:\", Student.total_students())  # Output: Total students: 2\n",
        "\n",
        "s3 = Student(\"Charlie\")\n",
        "print(\"Total students:\", Student.total_students())  # Output: Total students: 3\n"
      ],
      "metadata": {
        "id": "R6rMDCJUIUFs"
      },
      "execution_count": null,
      "outputs": []
    },
    {
      "cell_type": "markdown",
      "source": [
        "<b>Problem 22: Shared Configuration</b>\n",
        "\n",
        "Create a class ServerConfig that holds the server's default configuration using class variables. The class should have the following:\n",
        "\n",
        "1. A class variable default_port set to 8080.\n",
        "2. A class variable default_protocol set to \"http\".\n",
        "3. Methods to get and update these default values."
      ],
      "metadata": {
        "id": "2lCQC1m_IwMD"
      }
    },
    {
      "cell_type": "code",
      "source": [
        "class ServerConfig:\n",
        "    # Class variables (shared among all instances)\n",
        "    default_port = 8080\n",
        "    default_protocol = \"http\"\n",
        "\n",
        "    # Method to get current default config\n",
        "    @classmethod\n",
        "    def get_defaults(cls):\n",
        "        return f\"Port: {cls.default_port}, Protocol: {cls.default_protocol}\"\n",
        "\n",
        "    # Method to update default port\n",
        "    @classmethod\n",
        "    def set_default_port(cls, port):\n",
        "        cls.default_port = port\n",
        "\n",
        "    # Method to update default protocol\n",
        "    @classmethod\n",
        "    def set_default_protocol(cls, protocol):\n",
        "        cls.default_protocol = protocol\n",
        "\n",
        "\n",
        "# Example usage:\n",
        "print(ServerConfig.get_defaults())  # Port: 8080, Protocol: http\n",
        "\n",
        "ServerConfig.set_default_port(9090)\n",
        "ServerConfig.set_default_protocol(\"https\")\n",
        "\n",
        "print(ServerConfig.get_defaults())  # Port: 9090, Protocol: https\n"
      ],
      "metadata": {
        "id": "fbC0ewMRI4Ds"
      },
      "execution_count": null,
      "outputs": []
    },
    {
      "cell_type": "markdown",
      "source": [
        "<b>Problem 23: Animal Hierarchy</b><br/>\n",
        "Create a base class Animal with the following:\n",
        "1. A method make_sound() that prints \"Some generic sound\".\n",
        "2. A method move() that prints \"Animal moves\".\n",
        "\n",
        "Create two derived classes:\n",
        "1. Dog: Override make_sound() to print \"Bark\".\n",
        "2. Bird: Override move() to print \"Bird flies\"."
      ],
      "metadata": {
        "id": "apogoC5tJONb"
      }
    },
    {
      "cell_type": "code",
      "source": [
        "# Base class\n",
        "class Animal:\n",
        "    def make_sound(self):\n",
        "        print(\"Some generic sound\")\n",
        "\n",
        "    def move(self):\n",
        "        print(\"Animal moves\")\n",
        "\n",
        "# Derived class Dog\n",
        "class Dog(Animal):\n",
        "    def make_sound(self):\n",
        "        print(\"Bark\")\n",
        "\n",
        "# Derived class Bird\n",
        "class Bird(Animal):\n",
        "    def move(self):\n",
        "        print(\"Bird flies\")\n"
      ],
      "metadata": {
        "id": "XpJOxWYzJds9"
      },
      "execution_count": null,
      "outputs": []
    },
    {
      "cell_type": "markdown",
      "source": [
        "<b>Problem 24: Library System</b>\n",
        "\n",
        "Create a base class Book with:\n",
        "1. Attributes title and author.\n",
        "2. A method display_info() to print the title and author.\n",
        "\n",
        "Create the following derived classes:\n",
        "1. EBook: Adds an attribute file_size (in MB) and overrides display_info() to include file size.\n",
        "2. PrintedBook: Adds an attribute pages and overrides display_info() to include the number of pages."
      ],
      "metadata": {
        "id": "EJKYYOvGJpOL"
      }
    },
    {
      "cell_type": "code",
      "source": [
        "# Base Class\n",
        "class Book:\n",
        "    def __init__(self, title, author):\n",
        "        self.title = title\n",
        "        self.author = author\n",
        "\n",
        "    def display_info(self):\n",
        "        print(f\"Title: {self.title}\")\n",
        "        print(f\"Author: {self.author}\")\n",
        "\n",
        "\n",
        "# Derived Class: EBook\n",
        "class EBook(Book):\n",
        "    def __init__(self, title, author, file_size):\n",
        "        super().__init__(title, author)\n",
        "        self.file_size = file_size  # in MB\n",
        "\n",
        "    def display_info(self):\n",
        "        super().display_info()\n",
        "        print(f\"File Size: {self.file_size} MB\")\n",
        "\n",
        "\n",
        "# Derived Class: PrintedBook\n",
        "class PrintedBook(Book):\n",
        "    def __init__(self, title, author, pages):\n",
        "        super().__init__(title, author)\n",
        "        self.pages = pages\n",
        "\n",
        "    def display_info(self):\n",
        "        super().display_info()\n",
        "        print(f\"Pages: {self.pages}\")\n",
        "# Create instances\n",
        "ebook = EBook(\"Python Basics\", \"Alice Johnson\", 5.2)\n",
        "printed_book = PrintedBook(\"Data Structures\", \"Bob Smith\", 320)\n",
        "\n",
        "# Display information\n",
        "print(\"EBook Details:\")\n",
        "ebook.display_info()\n",
        "\n",
        "print(\"\\nPrinted Book Details:\")\n",
        "printed_book.display_info()\n"
      ],
      "metadata": {
        "id": "nczt61gAJ3pB"
      },
      "execution_count": null,
      "outputs": []
    },
    {
      "cell_type": "markdown",
      "source": [
        "<b>Problem 25: Smart Home System</b><br/>\n",
        "Create a system for a smart home that involves multiple inheritance to simulate different roles for smart devices. Implement the following classes:\n",
        "\n",
        "1. Appliance (Base Class 1):<br/>\n",
        "<b>a. Attributes:</b><br/>\n",
        "brand (string): Brand of the appliance.<br/>\n",
        "<b>b. Methods:</b><br/>\n",
        "turn_on(): Prints \"The appliance is now ON.\"<br/>\n",
        "turn_off(): Prints \"The appliance is now OFF.\"<br/>\n",
        "\n",
        "2. InternetEnabled (Base Class 2):<br/>\n",
        "<b>a. Attributes:</b><br/>\n",
        "ip_address (string): IP address of the device.<br/>\n",
        "<b>b. Methods:</b><br/>\n",
        "connect_to_internet(): Prints \"Connected to the internet at {ip_address}.\"<br/>\n",
        "disconnect_from_internet(): Prints \"Disconnected from the internet.\"<br/>\n",
        "\n",
        "3. VoiceControlled (Base Class 3):<br/>\n",
        "<b>a. Methods:</b><br/>\n",
        "respond_to_command(command): Responds to the given voice command:<br/>\n",
        "\"Turn on\" -> Calls turn_on().<br/>\n",
        "\"Turn off\" -> Calls turn_off().<br/>\n",
        "Any other command -> Prints \"Unknown command.\"<br/>\n",
        "\n",
        "<b>SmartDevice (Derived Class):</b><br/>\n",
        "\n",
        "1. Inherits from Appliance, InternetEnabled, and VoiceControlled.\n",
        "2. Attributes:<br/>\n",
        "name (string): Name of the smart device.\n",
        "3. Methods:<br/>\n",
        "show_device_status(): Prints the device name, brand, and IP address.<br/>\n",
        "\n",
        "<b>Requirements:</b><br/>\n",
        "1. Create a SmartDevice instance with attributes name, brand, and ip_address.\n",
        "2. Demonstrate:\n",
        "<ul>\n",
        "<li>Turning the device on and off via the respond_to_command() method.</li>\n",
        "<li>Connecting and disconnecting the device from the internet.</li>\n",
        "<li>Showing the device's details using show_device_status().</li>\n",
        "</ul>"
      ],
      "metadata": {
        "id": "W4FcqCDoKh5w"
      }
    },
    {
      "cell_type": "code",
      "source": [
        "# Base Class 1\n",
        "class Appliance:\n",
        "    def __init__(self, brand):\n",
        "        self.brand = brand\n",
        "\n",
        "    def turn_on(self):\n",
        "        print(\"The appliance is now ON.\")\n",
        "\n",
        "    def turn_off(self):\n",
        "        print(\"The appliance is now OFF.\")\n",
        "\n",
        "\n",
        "# Base Class 2\n",
        "class InternetEnabled:\n",
        "    def __init__(self, ip_address):\n",
        "        self.ip_address = ip_address\n",
        "\n",
        "    def connect_to_internet(self):\n",
        "        print(f\"Connected to the internet at {self.ip_address}.\")\n",
        "\n",
        "    def disconnect_from_internet(self):\n",
        "        print(\"Disconnected from the internet.\")\n",
        "\n",
        "\n",
        "# Base Class 3\n",
        "class VoiceControlled:\n",
        "    def respond_to_command(self, command):\n",
        "        if command.lower() == \"turn on\":\n",
        "            self.turn_on()\n",
        "        elif command.lower() == \"turn off\":\n",
        "            self.turn_off()\n",
        "        else:\n",
        "            print(\"Unknown command.\")\n",
        "\n",
        "\n",
        "# Derived Class\n",
        "class SmartDevice(Appliance, InternetEnabled, VoiceControlled):\n",
        "    def __init__(self, name, brand, ip_address):\n",
        "        Appliance.__init__(self, brand)\n",
        "        InternetEnabled.__init__(self, ip_address)\n",
        "        self.name = name\n",
        "\n",
        "    def show_device_status(self):\n",
        "        print(f\"Device Name: {self.name}\")\n",
        "        print(f\"Brand: {self.brand}\")\n",
        "        print(f\"IP Address: {self.ip_address}\")\n",
        "# Create an instance of SmartDevice\n",
        "device = SmartDevice(name=\"Smart Light\", brand=\"Philips\", ip_address=\"192.168.1.100\")\n",
        "\n",
        "# Demonstrate functionalities\n",
        "device.show_device_status()\n",
        "\n",
        "device.connect_to_internet()\n",
        "device.respond_to_command(\"Turn on\")\n",
        "device.respond_to_command(\"Turn off\")\n",
        "device.respond_to_command(\"Dim light\")  # Unknown command\n",
        "device.disconnect_from_internet()\n"
      ],
      "metadata": {
        "id": "rQ0jqcPKLfzI"
      },
      "execution_count": null,
      "outputs": []
    }
  ]
}